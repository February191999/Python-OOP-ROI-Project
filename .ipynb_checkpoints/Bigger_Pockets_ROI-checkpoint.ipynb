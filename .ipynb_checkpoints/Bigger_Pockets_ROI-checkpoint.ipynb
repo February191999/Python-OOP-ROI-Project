{
 "cells": [
  {
   "cell_type": "code",
   "execution_count": null,
   "id": "223fb2a6",
   "metadata": {},
   "outputs": [
    {
     "name": "stdout",
     "output_type": "stream",
     "text": [
      "Choose an item to input a number for, or choose calculate to get ROI: INCOME/EXPENSES/CALCULATEf\n",
      "Please enter a valid response.\n",
      "Choose an item to input a number for, or choose calculate to get ROI: INCOME/EXPENSES/CALCULATEincome\n",
      "What is your monthly rental income? 3000\n",
      "Do you have any monthly laundry income? If no, enter 0. Enter amount:  100\n",
      "Do you have any monthly storage income? If no, enter 0. Enter amount: 150\n",
      "Do you have other sources of monthly income? If no, enter 0. Enter amount: 0\n",
      "Your total monthly income is: $3250\n",
      "Choose an item to input a number for, or choose calculate to get ROI: INCOME/EXPENSES/CALCULATEexpenses\n",
      "How much is your monthly property tax? 1000\n",
      "How much is your monthly property insurance? 100\n",
      "Do you have any utility expenses? If no, enter 0. Enter amount: 0\n",
      "Do you have any home owner's association fees(HOA)? If no, enter 0. Enter amount: 0\n",
      "Do you have any lawn or snow care fees? If no, enter 0. Enter amount: 80\n",
      "Do you have any vacancy savings? If no, enter 0. Enter amount: 150\n",
      "Do you have any repair savings? If no, enter 0. Enter amount: 100\n",
      "Do you have any capex savings? If no, enter 0. Enter amount: 100\n",
      "Do you have any property management fees? If no, enter 0. Enter amount: 0\n",
      "What is your mortgage fee? 150\n",
      "Do you have any other expenses? 0\n",
      "Your total monthly expenses is: $1680\n",
      "Choose an item to input a number for, or choose calculate to get ROI: INCOME/EXPENSES/CALCULATEcalculate\n",
      "What is your down payment? 50000\n",
      "What is your closing cost? 10000\n",
      "Did you have any rehab/repair costs? 3000\n",
      "Did you have any other costs? If no, enter 0. Enter amount: 0\n",
      "Your monthly cashflow is: $18840\n",
      "Your calculated ROI is: 29.904761904761905%\n"
     ]
    }
   ],
   "source": [
    "class RoiCalculator():\n",
    "    '''\n",
    "        Function expects 5 zeroes. Zeroes for income and expenses would be modified with numbers inputted by the user.\n",
    "        \n",
    "        cashflow, cash_on_cash_roi and total_investment would be calculated when the program has all the inputs.\n",
    "    '''\n",
    "    def __init__(self, income, expenses, cashflow, cash_on_cash_roi, total_investment):\n",
    "        self.income = income\n",
    "        self.expenses = expenses\n",
    "        self.cashflow = cashflow\n",
    "        self.cash_on_cash_roi = cash_on_cash_roi\n",
    "        self.total_investment = total_investment\n",
    "        \n",
    "biggerPockets = RoiCalculator(0, 0, 0, 0, 0)    \n",
    "def calculateRoi():\n",
    "    \n",
    "    while True:\n",
    "        user_input = input(\"Choose an item to input a number for, or choose calculate to get ROI: INCOME/EXPENSES/CALCULATE\")\n",
    "        if user_input.lower() == 'income':\n",
    "            rental_income = input(\"What is your monthly rental income? \")\n",
    "            laundry_income = input(\"Do you have any monthly laundry income? If no, enter 0. Enter amount:  \")\n",
    "            storage_income = input(\"Do you have any monthly storage income? If no, enter 0. Enter amount: \")\n",
    "            misc_income = input(\"Do you have other sources of monthly income? If no, enter 0. Enter amount: \")\n",
    "            total_income = biggerPockets.income + int(rental_income) + int(laundry_income) + int(storage_income) + int(misc_income)\n",
    "            biggerPockets.income = total_income\n",
    "            print(f\"Your total monthly income is: ${biggerPockets.income}\")\n",
    "        elif user_input.lower() == 'expenses':\n",
    "            user_tax = input(\"How much is your monthly property tax? \")\n",
    "            user_insurance = input(\"How much is your monthly property insurance? \")\n",
    "            user_utilities = input(\"Do you have any utility expenses? If no, enter 0. Enter amount: \")\n",
    "            user_hoa = input(\"Do you have any home owner's association fees(HOA)? If no, enter 0. Enter amount: \")\n",
    "            user_lawnnsnow = input(\"Do you have any lawn or snow care fees? If no, enter 0. Enter amount: \")\n",
    "            user_vacancy = input(\"Do you have any vacancy savings? If no, enter 0. Enter amount: \")\n",
    "            user_repair = input(\"Do you have any repair savings? If no, enter 0. Enter amount: \")\n",
    "            user_capex = input(\"Do you have any capex savings? If no, enter 0. Enter amount: \")\n",
    "            user_propertymanagement = input(\"Do you have any property management fees? If no, enter 0. Enter amount: \")\n",
    "            user_mortgage = input(\"What is your mortgage fee? \")\n",
    "            user_misc = input(\"Do you have any other expenses? \")\n",
    "            total_expenses = biggerPockets.expenses + int(user_tax) + int(user_insurance) + int(user_utilities) + int(user_hoa) + int(user_lawnnsnow) + int(user_vacancy) + int(user_repair) + int(user_capex) + int(user_propertymanagement) + int(user_mortgage) + int(user_misc)\n",
    "            biggerPockets.expenses = total_expenses\n",
    "            print(f\"Your total monthly expenses is: ${biggerPockets.expenses}\")\n",
    "        elif user_input.lower() == 'calculate':\n",
    "            biggerPockets.cashflow = 12*(biggerPockets.income - biggerPockets.expenses)\n",
    "            user_downpayment = input(\"What is your down payment? \")\n",
    "            user_closingcost = input(\"What is your closing cost? \")\n",
    "            user_rehab = input(\"Did you have any rehab/repair costs? \")\n",
    "            misc_other = input(\"Did you have any other costs? If no, enter 0. Enter amount: \")\n",
    "            print(f\"Your monthly cashflow is: ${biggerPockets.cashflow}\")\n",
    "            totalinvestment = int(user_downpayment) + int(user_closingcost) + int(user_rehab) + int(misc_other) + biggerPockets.total_investment\n",
    "            biggerPockets.total_investment = totalinvestment\n",
    "            cash_on_cash_roi = biggerPockets.cashflow/biggerPockets.total_investment\n",
    "            biggerPockets.cash_on_cash_roi = cash_on_cash_roi*100\n",
    "            print(f\"Your calculated ROI is: {biggerPockets.cash_on_cash_roi}%\")\n",
    "        else:\n",
    "            print(\"Please enter a valid response.\")\n",
    "calculateRoi()\n"
   ]
  },
  {
   "cell_type": "markdown",
   "id": "c14e2e69",
   "metadata": {},
   "source": [
    "# "
   ]
  },
  {
   "cell_type": "code",
   "execution_count": null,
   "id": "88cea1be",
   "metadata": {},
   "outputs": [],
   "source": []
  }
 ],
 "metadata": {
  "kernelspec": {
   "display_name": "Python 3 (ipykernel)",
   "language": "python",
   "name": "python3"
  },
  "language_info": {
   "codemirror_mode": {
    "name": "ipython",
    "version": 3
   },
   "file_extension": ".py",
   "mimetype": "text/x-python",
   "name": "python",
   "nbconvert_exporter": "python",
   "pygments_lexer": "ipython3",
   "version": "3.9.7"
  }
 },
 "nbformat": 4,
 "nbformat_minor": 5
}
